{
 "cells": [
  {
   "cell_type": "code",
   "execution_count": 2,
   "metadata": {
    "colab": {},
    "colab_type": "code",
    "id": "mKHhCSL1tvyg"
   },
   "outputs": [],
   "source": [
    "import tensorflow as tf\n",
    "import pandas as pd\n",
    "import numpy as np\n",
    "import matplotlib.pyplot as plt\n",
    "from tensorflow.keras import Sequential\n",
    "from tensorflow.keras.layers import Flatten, Dense, Dropout, BatchNormalization, Conv2D, MaxPool2D\n",
    "from tensorflow.keras.optimizers import Adam\n",
    "from tensorflow.keras.preprocessing import image\n",
    "from sklearn.model_selection import train_test_split\n",
    "from tqdm import tqdm\n",
    "import os"
   ]
  },
  {
   "cell_type": "code",
   "execution_count": 4,
   "metadata": {
    "colab": {},
    "colab_type": "code",
    "id": "_N9OzTJTtj4F"
   },
   "outputs": [],
   "source": [
    "base_dir = os.getcwd()\n",
    "\n",
    "fotos_dir = os.path.join(base_dir, 'Fotos')"
   ]
  },
  {
   "cell_type": "code",
   "execution_count": 6,
   "metadata": {
    "colab": {
     "base_uri": "https://localhost:8080/",
     "height": 35
    },
    "colab_type": "code",
    "executionInfo": {
     "elapsed": 2114,
     "status": "ok",
     "timestamp": 1591667737261,
     "user": {
      "displayName": "Sebastian Anapolsky",
      "photoUrl": "https://lh3.googleusercontent.com/a-/AOh14Gh-bssDdRabjNIg6pvY-ZBRPq1x_CUs5xzbJCiGxn4=s64",
      "userId": "10075885117730618636"
     },
     "user_tz": 180
    },
    "id": "_sXLlHocp4pH",
    "outputId": "4491a9f4-8d90-48c8-9481-0e84f758de84"
   },
   "outputs": [
    {
     "name": "stdout",
     "output_type": "stream",
     "text": [
      "Cantidad de fotos 1928\n"
     ]
    }
   ],
   "source": [
    "rus = pd.read_pickle('rus_agg_con_categorias_y_fotos_sa.p')\n",
    "\n",
    "\n",
    "# rus = rus.head(1000)\n",
    "\n",
    "print('Cantidad de fotos', len(rus))\n",
    "\n",
    "\n",
    "\n",
    "# "
   ]
  },
  {
   "cell_type": "code",
   "execution_count": 7,
   "metadata": {
    "colab": {
     "base_uri": "https://localhost:8080/",
     "height": 259
    },
    "colab_type": "code",
    "executionInfo": {
     "elapsed": 1452,
     "status": "ok",
     "timestamp": 1591667737262,
     "user": {
      "displayName": "Sebastian Anapolsky",
      "photoUrl": "https://lh3.googleusercontent.com/a-/AOh14Gh-bssDdRabjNIg6pvY-ZBRPq1x_CUs5xzbJCiGxn4=s64",
      "userId": "10075885117730618636"
     },
     "user_tz": 180
    },
    "id": "uw8dswvuDcde",
    "outputId": "2b06d593-e999-4d82-f31a-63602710a78c"
   },
   "outputs": [
    {
     "data": {
      "text/html": [
       "<div>\n",
       "<style scoped>\n",
       "    .dataframe tbody tr th:only-of-type {\n",
       "        vertical-align: middle;\n",
       "    }\n",
       "\n",
       "    .dataframe tbody tr th {\n",
       "        vertical-align: top;\n",
       "    }\n",
       "\n",
       "    .dataframe thead th {\n",
       "        text-align: right;\n",
       "    }\n",
       "</style>\n",
       "<table border=\"1\" class=\"dataframe\">\n",
       "  <thead>\n",
       "    <tr style=\"text-align: right;\">\n",
       "      <th></th>\n",
       "      <th>index</th>\n",
       "      <th>SMP</th>\n",
       "      <th>Oficinas</th>\n",
       "      <th>Lote</th>\n",
       "      <th>Público</th>\n",
       "      <th>Industrial</th>\n",
       "      <th>Comercial-Servicios</th>\n",
       "      <th>Estacionamiento</th>\n",
       "      <th>Abandonado-Obra</th>\n",
       "      <th>Departamentos</th>\n",
       "      <th>Casa-PH</th>\n",
       "      <th>Categoria</th>\n",
       "      <th>web_ciudad</th>\n",
       "      <th>file</th>\n",
       "      <th>filename</th>\n",
       "      <th>hay_foto</th>\n",
       "    </tr>\n",
       "  </thead>\n",
       "  <tbody>\n",
       "    <tr>\n",
       "      <th>369</th>\n",
       "      <td>7393</td>\n",
       "      <td>006-047-022</td>\n",
       "      <td>0.0</td>\n",
       "      <td>0.0</td>\n",
       "      <td>0.0</td>\n",
       "      <td>0.0</td>\n",
       "      <td>0.0</td>\n",
       "      <td>0.0</td>\n",
       "      <td>0.0</td>\n",
       "      <td>0.0</td>\n",
       "      <td>1.0</td>\n",
       "      <td>Casa-PH</td>\n",
       "      <td>http://fotos.usig.buenosaires.gob.ar//getFoto?...</td>\n",
       "      <td>006-047-022.jpg</td>\n",
       "      <td>C:\\Users\\maxir\\Artificial Intelligence\\Desafio...</td>\n",
       "      <td>1</td>\n",
       "    </tr>\n",
       "    <tr>\n",
       "      <th>1530</th>\n",
       "      <td>24626</td>\n",
       "      <td>015-003-040</td>\n",
       "      <td>0.0</td>\n",
       "      <td>0.0</td>\n",
       "      <td>0.0</td>\n",
       "      <td>0.0</td>\n",
       "      <td>0.0</td>\n",
       "      <td>1.0</td>\n",
       "      <td>0.0</td>\n",
       "      <td>1.0</td>\n",
       "      <td>0.0</td>\n",
       "      <td>Departamentos, Estacionamiento</td>\n",
       "      <td>http://fotos.usig.buenosaires.gob.ar//getFoto?...</td>\n",
       "      <td>015-003-040.jpg</td>\n",
       "      <td>C:\\Users\\maxir\\Artificial Intelligence\\Desafio...</td>\n",
       "      <td>1</td>\n",
       "    </tr>\n",
       "    <tr>\n",
       "      <th>863</th>\n",
       "      <td>14856</td>\n",
       "      <td>010-057-003</td>\n",
       "      <td>0.0</td>\n",
       "      <td>0.0</td>\n",
       "      <td>0.0</td>\n",
       "      <td>0.0</td>\n",
       "      <td>0.0</td>\n",
       "      <td>0.0</td>\n",
       "      <td>0.0</td>\n",
       "      <td>0.0</td>\n",
       "      <td>1.0</td>\n",
       "      <td>Casa-PH</td>\n",
       "      <td>http://fotos.usig.buenosaires.gob.ar//getFoto?...</td>\n",
       "      <td>010-057-003.jpg</td>\n",
       "      <td>C:\\Users\\maxir\\Artificial Intelligence\\Desafio...</td>\n",
       "      <td>1</td>\n",
       "    </tr>\n",
       "  </tbody>\n",
       "</table>\n",
       "</div>"
      ],
      "text/plain": [
       "      index          SMP  Oficinas  Lote  Público  Industrial  \\\n",
       "369    7393  006-047-022       0.0   0.0      0.0         0.0   \n",
       "1530  24626  015-003-040       0.0   0.0      0.0         0.0   \n",
       "863   14856  010-057-003       0.0   0.0      0.0         0.0   \n",
       "\n",
       "      Comercial-Servicios  Estacionamiento  Abandonado-Obra  Departamentos  \\\n",
       "369                   0.0              0.0              0.0            0.0   \n",
       "1530                  0.0              1.0              0.0            1.0   \n",
       "863                   0.0              0.0              0.0            0.0   \n",
       "\n",
       "      Casa-PH                       Categoria  \\\n",
       "369       1.0                         Casa-PH   \n",
       "1530      0.0  Departamentos, Estacionamiento   \n",
       "863       1.0                         Casa-PH   \n",
       "\n",
       "                                             web_ciudad             file  \\\n",
       "369   http://fotos.usig.buenosaires.gob.ar//getFoto?...  006-047-022.jpg   \n",
       "1530  http://fotos.usig.buenosaires.gob.ar//getFoto?...  015-003-040.jpg   \n",
       "863   http://fotos.usig.buenosaires.gob.ar//getFoto?...  010-057-003.jpg   \n",
       "\n",
       "                                               filename  hay_foto  \n",
       "369   C:\\Users\\maxir\\Artificial Intelligence\\Desafio...         1  \n",
       "1530  C:\\Users\\maxir\\Artificial Intelligence\\Desafio...         1  \n",
       "863   C:\\Users\\maxir\\Artificial Intelligence\\Desafio...         1  "
      ]
     },
     "execution_count": 7,
     "metadata": {},
     "output_type": "execute_result"
    }
   ],
   "source": [
    "rus.sample(3)"
   ]
  },
  {
   "cell_type": "code",
   "execution_count": 9,
   "metadata": {
    "colab": {},
    "colab_type": "code",
    "id": "okMvqEeZHk1P"
   },
   "outputs": [
    {
     "data": {
      "text/plain": [
       "1928"
      ]
     },
     "execution_count": 9,
     "metadata": {},
     "output_type": "execute_result"
    }
   ],
   "source": [
    "rus.shape[0]"
   ]
  },
  {
   "cell_type": "markdown",
   "metadata": {
    "colab_type": "text",
    "id": "pJpeWPkrtHyH"
   },
   "source": [
    "Levanto las imágenes y las convierto en un vector"
   ]
  },
  {
   "cell_type": "code",
   "execution_count": 10,
   "metadata": {
    "colab": {
     "base_uri": "https://localhost:8080/",
     "height": 54
    },
    "colab_type": "code",
    "executionInfo": {
     "elapsed": 23803,
     "status": "ok",
     "timestamp": 1591667763350,
     "user": {
      "displayName": "Sebastian Anapolsky",
      "photoUrl": "https://lh3.googleusercontent.com/a-/AOh14Gh-bssDdRabjNIg6pvY-ZBRPq1x_CUs5xzbJCiGxn4=s64",
      "userId": "10075885117730618636"
     },
     "user_tz": 180
    },
    "id": "DEK4PBAXquVq",
    "outputId": "e8455e82-b146-4100-ca97-c57d6ae796a4"
   },
   "outputs": [
    {
     "name": "stderr",
     "output_type": "stream",
     "text": [
      "100%|█████████████████████████████████████████████████████████████████████████████| 1928/1928 [00:16<00:00, 116.03it/s]\n"
     ]
    },
    {
     "data": {
      "text/plain": [
       "(1928, 350, 350, 3)"
      ]
     },
     "execution_count": 10,
     "metadata": {},
     "output_type": "execute_result"
    }
   ],
   "source": [
    "img_width = 350\n",
    "img_height = 350\n",
    "X = []\n",
    "for i in tqdm(range(0,rus.shape[0])):\n",
    "  path = os.path.join(os.getcwd(),'Fotos',rus['file'][i])\n",
    "\n",
    "  try:\n",
    "    img = image.load_img(path, target_size=(img_width, img_height, 3))\n",
    "    img = image.img_to_array(img)\n",
    "    img = img/255.0\n",
    "    X.append(img)\n",
    "    rus.loc[i, 'file_valida'] = 1\n",
    "  except:\n",
    "    rus.loc[i, 'file_valida'] = 0\n",
    "\n",
    "X = np.array(X)\n",
    "rus = rus[rus.file_valida == 1].reset_index(drop=True) \n",
    "X.shape\n"
   ]
  },
  {
   "cell_type": "code",
   "execution_count": 11,
   "metadata": {
    "colab": {
     "base_uri": "https://localhost:8080/",
     "height": 305
    },
    "colab_type": "code",
    "executionInfo": {
     "elapsed": 411010,
     "status": "ok",
     "timestamp": 1591664559164,
     "user": {
      "displayName": "Sebastian Anapolsky",
      "photoUrl": "https://lh3.googleusercontent.com/a-/AOh14Gh-bssDdRabjNIg6pvY-ZBRPq1x_CUs5xzbJCiGxn4=s64",
      "userId": "10075885117730618636"
     },
     "user_tz": 180
    },
    "id": "8pTyQBx_tcOe",
    "outputId": "a967b31d-28f8-416a-f546-b0c4b697f649"
   },
   "outputs": [
    {
     "name": "stdout",
     "output_type": "stream",
     "text": [
      "Casa-PH, Estacionamiento\n"
     ]
    },
    {
     "data": {
      "text/plain": [
       "<matplotlib.image.AxesImage at 0x20280050d88>"
      ]
     },
     "execution_count": 11,
     "metadata": {},
     "output_type": "execute_result"
    },
    {
     "data": {
      "image/png": "[encoded data removed]",
      "text/plain": [
       "<Figure size 432x288 with 1 Axes>"
      ]
     },
     "metadata": {
      "needs_background": "light"
     },
     "output_type": "display_data"
    }
   ],
   "source": [
    "nimg = rus.sample(1).index.values[0]\n",
    "print(rus['Categoria'][nimg])\n",
    "plt.imshow(X[nimg])\n"
   ]
  },
  {
   "cell_type": "code",
   "execution_count": 12,
   "metadata": {
    "colab": {
     "base_uri": "https://localhost:8080/",
     "height": 108
    },
    "colab_type": "code",
    "executionInfo": {
     "elapsed": 764,
     "status": "ok",
     "timestamp": 1591663462756,
     "user": {
      "displayName": "Sebastian Anapolsky",
      "photoUrl": "https://lh3.googleusercontent.com/a-/AOh14Gh-bssDdRabjNIg6pvY-ZBRPq1x_CUs5xzbJCiGxn4=s64",
      "userId": "10075885117730618636"
     },
     "user_tz": 180
    },
    "id": "x7HFOZbNkF4z",
    "outputId": "b2876d26-faee-4bbc-c15f-cbeee8e4743f"
   },
   "outputs": [
    {
     "data": {
      "text/plain": [
       "Index(['index', 'SMP', 'Oficinas', 'Lote', 'Público', 'Industrial',\n",
       "       'Comercial-Servicios', 'Estacionamiento', 'Abandonado-Obra',\n",
       "       'Departamentos', 'Casa-PH', 'Categoria', 'web_ciudad', 'file',\n",
       "       'filename', 'hay_foto', 'file_valida'],\n",
       "      dtype='object')"
      ]
     },
     "execution_count": 12,
     "metadata": {},
     "output_type": "execute_result"
    }
   ],
   "source": [
    "rus.columns"
   ]
  },
  {
   "cell_type": "code",
   "execution_count": 13,
   "metadata": {
    "colab": {
     "base_uri": "https://localhost:8080/",
     "height": 35
    },
    "colab_type": "code",
    "executionInfo": {
     "elapsed": 3013,
     "status": "ok",
     "timestamp": 1591667763351,
     "user": {
      "displayName": "Sebastian Anapolsky",
      "photoUrl": "https://lh3.googleusercontent.com/a-/AOh14Gh-bssDdRabjNIg6pvY-ZBRPq1x_CUs5xzbJCiGxn4=s64",
      "userId": "10075885117730618636"
     },
     "user_tz": 180
    },
    "id": "sEPoP0XutcQ_",
    "outputId": "038a5373-f5ff-4c88-f910-1f0d4bb8ddb3"
   },
   "outputs": [
    {
     "data": {
      "text/plain": [
       "(1928, 4)"
      ]
     },
     "execution_count": 13,
     "metadata": {},
     "output_type": "execute_result"
    }
   ],
   "source": [
    "y = rus[['Casa-PH', 'Departamentos', 'Comercial-Servicios', 'Estacionamiento']]\n",
    "y = y.to_numpy()\n",
    "y.shape\n",
    "\n"
   ]
  },
  {
   "cell_type": "code",
   "execution_count": 14,
   "metadata": {
    "colab": {},
    "colab_type": "code",
    "id": "Sd0kVWnNvJnj"
   },
   "outputs": [],
   "source": [
    "X_train, X_test, y_train, y_test = train_test_split(X, y, random_state = 0, test_size=0.15)\n"
   ]
  },
  {
   "cell_type": "markdown",
   "metadata": {
    "colab_type": "text",
    "id": "K49IVURQvbYQ"
   },
   "source": [
    "Crear Modelo CNN"
   ]
  },
  {
   "cell_type": "code",
   "execution_count": 15,
   "metadata": {
    "colab": {
     "base_uri": "https://localhost:8080/",
     "height": 1000
    },
    "colab_type": "code",
    "executionInfo": {
     "elapsed": 1568,
     "status": "ok",
     "timestamp": 1591664561677,
     "user": {
      "displayName": "Sebastian Anapolsky",
      "photoUrl": "https://lh3.googleusercontent.com/a-/AOh14Gh-bssDdRabjNIg6pvY-ZBRPq1x_CUs5xzbJCiGxn4=s64",
      "userId": "10075885117730618636"
     },
     "user_tz": 180
    },
    "id": "DHUIVoV9vdQt",
    "outputId": "a73280ef-8900-4a20-e1ed-ac910c1c12b1"
   },
   "outputs": [
    {
     "name": "stdout",
     "output_type": "stream",
     "text": [
      "Model: \"sequential\"\n",
      "_________________________________________________________________\n",
      "Layer (type)                 Output Shape              Param #   \n",
      "=================================================================\n",
      "conv2d (Conv2D)              (None, 348, 348, 16)      448       \n",
      "_________________________________________________________________\n",
      "batch_normalization (BatchNo (None, 348, 348, 16)      64        \n",
      "_________________________________________________________________\n",
      "max_pooling2d (MaxPooling2D) (None, 174, 174, 16)      0         \n",
      "_________________________________________________________________\n",
      "dropout (Dropout)            (None, 174, 174, 16)      0         \n",
      "_________________________________________________________________\n",
      "conv2d_1 (Conv2D)            (None, 172, 172, 32)      4640      \n",
      "_________________________________________________________________\n",
      "batch_normalization_1 (Batch (None, 172, 172, 32)      128       \n",
      "_________________________________________________________________\n",
      "max_pooling2d_1 (MaxPooling2 (None, 86, 86, 32)        0         \n",
      "_________________________________________________________________\n",
      "dropout_1 (Dropout)          (None, 86, 86, 32)        0         \n",
      "_________________________________________________________________\n",
      "conv2d_2 (Conv2D)            (None, 84, 84, 32)        9248      \n",
      "_________________________________________________________________\n",
      "batch_normalization_2 (Batch (None, 84, 84, 32)        128       \n",
      "_________________________________________________________________\n",
      "max_pooling2d_2 (MaxPooling2 (None, 42, 42, 32)        0         \n",
      "_________________________________________________________________\n",
      "dropout_2 (Dropout)          (None, 42, 42, 32)        0         \n",
      "_________________________________________________________________\n",
      "conv2d_3 (Conv2D)            (None, 40, 40, 128)       36992     \n",
      "_________________________________________________________________\n",
      "batch_normalization_3 (Batch (None, 40, 40, 128)       512       \n",
      "_________________________________________________________________\n",
      "max_pooling2d_3 (MaxPooling2 (None, 20, 20, 128)       0         \n",
      "_________________________________________________________________\n",
      "dropout_3 (Dropout)          (None, 20, 20, 128)       0         \n",
      "_________________________________________________________________\n",
      "flatten (Flatten)            (None, 51200)             0         \n",
      "_________________________________________________________________\n",
      "dense (Dense)                (None, 128)               6553728   \n",
      "_________________________________________________________________\n",
      "batch_normalization_4 (Batch (None, 128)               512       \n",
      "_________________________________________________________________\n",
      "dropout_4 (Dropout)          (None, 128)               0         \n",
      "_________________________________________________________________\n",
      "dense_1 (Dense)              (None, 128)               16512     \n",
      "_________________________________________________________________\n",
      "batch_normalization_5 (Batch (None, 128)               512       \n",
      "_________________________________________________________________\n",
      "dropout_5 (Dropout)          (None, 128)               0         \n",
      "_________________________________________________________________\n",
      "dense_2 (Dense)              (None, 4)                 516       \n",
      "=================================================================\n",
      "Total params: 6,623,940\n",
      "Trainable params: 6,623,012\n",
      "Non-trainable params: 928\n",
      "_________________________________________________________________\n"
     ]
    }
   ],
   "source": [
    "model = Sequential()\n",
    "\n",
    "model.add(Conv2D(16, (3,3), activation='relu', input_shape = X_train[0].shape))\n",
    "model.add(BatchNormalization())\n",
    "model.add(MaxPool2D(2,2))\n",
    "model.add(Dropout(0.3))\n",
    "\n",
    "model.add(Conv2D(32, (3,3), activation='relu'))\n",
    "model.add(BatchNormalization())\n",
    "model.add(MaxPool2D(2,2))\n",
    "model.add(Dropout(0.3))\n",
    "\n",
    "model.add(Conv2D(32, (3,3), activation='relu'))\n",
    "model.add(BatchNormalization())\n",
    "model.add(MaxPool2D(2,2))\n",
    "model.add(Dropout(0.4))\n",
    "\n",
    "model.add(Conv2D(128, (3,3), activation='relu'))\n",
    "model.add(BatchNormalization())\n",
    "model.add(MaxPool2D(2,2))\n",
    "model.add(Dropout(0.5))\n",
    "\n",
    "model.add(Flatten())\n",
    "\n",
    "model.add(Dense(128, activation='relu'))\n",
    "model.add(BatchNormalization())\n",
    "model.add(Dropout(0.5))\n",
    "\n",
    "model.add(Dense(128, activation='relu'))\n",
    "model.add(BatchNormalization())\n",
    "model.add(Dropout(0.5))\n",
    "\n",
    "model.add(Dense(4, activation='sigmoid'))  # primer parámetro es cantidad de categorías\n",
    "\n",
    "\n",
    "\n",
    "model.summary()"
   ]
  },
  {
   "cell_type": "code",
   "execution_count": 16,
   "metadata": {},
   "outputs": [],
   "source": [
    "miou = tf.keras.metrics.MeanIoU(num_classes=4)"
   ]
  },
  {
   "cell_type": "code",
   "execution_count": 17,
   "metadata": {
    "colab": {},
    "colab_type": "code",
    "id": "8ZP2nSDzxJ-E"
   },
   "outputs": [],
   "source": [
    "model.compile(optimizer='adam', loss='binary_crossentropy', metrics=[miou])\n"
   ]
  },
  {
   "cell_type": "code",
   "execution_count": 18,
   "metadata": {
    "colab": {
     "base_uri": "https://localhost:8080/",
     "height": 563
    },
    "colab_type": "code",
    "executionInfo": {
     "elapsed": 3067419,
     "status": "ok",
     "timestamp": 1591667627557,
     "user": {
      "displayName": "Sebastian Anapolsky",
      "photoUrl": "https://lh3.googleusercontent.com/a-/AOh14Gh-bssDdRabjNIg6pvY-ZBRPq1x_CUs5xzbJCiGxn4=s64",
      "userId": "10075885117730618636"
     },
     "user_tz": 180
    },
    "id": "KTlj_uIExKB6",
    "outputId": "4c86c5a5-32eb-4256-8979-861bf5f7bd7b"
   },
   "outputs": [
    {
     "name": "stdout",
     "output_type": "stream",
     "text": [
      "Train on 1638 samples, validate on 290 samples\n",
      "Epoch 1/15\n",
      "1638/1638 [==============================] - 49s 30ms/sample - loss: 0.9022 - mean_io_u: 0.2846 - val_loss: 4.1355 - val_mean_io_u: 0.2810\n",
      "Epoch 2/15\n",
      "1638/1638 [==============================] - 29s 18ms/sample - loss: 0.7555 - mean_io_u: 0.2846 - val_loss: 5.8768 - val_mean_io_u: 0.3026\n",
      "Epoch 3/15\n",
      "1638/1638 [==============================] - 30s 19ms/sample - loss: 0.6934 - mean_io_u: 0.2846 - val_loss: 11.9377 - val_mean_io_u: 0.3515\n",
      "Epoch 4/15\n",
      "1638/1638 [==============================] - 37s 23ms/sample - loss: 0.6525 - mean_io_u: 0.2846 - val_loss: 14.4389 - val_mean_io_u: 0.3743\n",
      "Epoch 5/15\n",
      "1638/1638 [==============================] - 29s 17ms/sample - loss: 0.6205 - mean_io_u: 0.2846 - val_loss: 6.5130 - val_mean_io_u: 0.3014\n",
      "Epoch 6/15\n",
      "1638/1638 [==============================] - 31s 19ms/sample - loss: 0.5821 - mean_io_u: 0.2846 - val_loss: 10.5011 - val_mean_io_u: 0.3523\n",
      "Epoch 7/15\n",
      "1638/1638 [==============================] - 36s 22ms/sample - loss: 0.5667 - mean_io_u: 0.2846 - val_loss: 3.9244 - val_mean_io_u: 0.3256\n",
      "Epoch 8/15\n",
      "1638/1638 [==============================] - 21s 13ms/sample - loss: 0.5205 - mean_io_u: 0.2846 - val_loss: 1.0377 - val_mean_io_u: 0.2823\n",
      "Epoch 9/15\n",
      "1638/1638 [==============================] - 5s 3ms/sample - loss: 0.5017 - mean_io_u: 0.2846 - val_loss: 1.1051 - val_mean_io_u: 0.2818\n",
      "Epoch 10/15\n",
      "1638/1638 [==============================] - 6s 3ms/sample - loss: 0.4844 - mean_io_u: 0.2846 - val_loss: 1.2235 - val_mean_io_u: 0.2823\n",
      "Epoch 11/15\n",
      "1638/1638 [==============================] - 5s 3ms/sample - loss: 0.4690 - mean_io_u: 0.2846 - val_loss: 0.8747 - val_mean_io_u: 0.2823\n",
      "Epoch 12/15\n",
      "1638/1638 [==============================] - 6s 3ms/sample - loss: 0.4401 - mean_io_u: 0.2846 - val_loss: 0.7657 - val_mean_io_u: 0.2810\n",
      "Epoch 13/15\n",
      "1638/1638 [==============================] - 6s 3ms/sample - loss: 0.4046 - mean_io_u: 0.2846 - val_loss: 0.6184 - val_mean_io_u: 0.2810\n",
      "Epoch 14/15\n",
      "1638/1638 [==============================] - 6s 3ms/sample - loss: 0.3771 - mean_io_u: 0.2846 - val_loss: 0.7301 - val_mean_io_u: 0.2810\n",
      "Epoch 15/15\n",
      "1638/1638 [==============================] - 5s 3ms/sample - loss: 0.3821 - mean_io_u: 0.2846 - val_loss: 0.6800 - val_mean_io_u: 0.2810\n"
     ]
    }
   ],
   "source": [
    "history = model.fit(X_train, y_train, epochs=15, validation_data=(X_test, y_test))"
   ]
  },
  {
   "cell_type": "code",
   "execution_count": 29,
   "metadata": {},
   "outputs": [],
   "source": [
    "def plot_history(name, history, legend, plot_val=True):\n",
    "    fig, ax = plt.subplots(1,2,figsize=(14,6))\n",
    "    fig.suptitle(name)\n",
    "    \n",
    "    if not isinstance(history, list):\n",
    "        history = [history]\n",
    "        \n",
    "    for h in history:\n",
    "        acc = h.history['mean_io_u']\n",
    "        loss = h.history['loss']\n",
    "        if plot_val:\n",
    "            val_loss = h.history['val_loss']\n",
    "            val_acc = h.history['val_mean_io_u']\n",
    "        epochs = range(1, len(acc) + 1)\n",
    "\n",
    "        ax[0].set_title('Loss')\n",
    "        ax[0].set_xticks(ticks=epochs)\n",
    "        lb, ub = ax[0].get_xlim( )\n",
    "        ax[0].set_xticks( np.linspace(lb, ub, 6 ) )\n",
    "        ax[0].set_ylim([0, 1])\n",
    "        ax[0].set_yticks( np.linspace(0, 1, 6 ) )\n",
    "        ax[0].set_ylabel('Loss')\n",
    "        \n",
    "        ax[0].plot(epochs, loss)\n",
    "        if plot_val:\n",
    "            ax[0].plot(epochs, val_loss)\n",
    "            \n",
    "        ax[1].set_title('MeanIoU')\n",
    "        ax[1].set_xticks(ticks=list(epochs))\n",
    "        ax[1].set_xlabel('Epochs')\n",
    "        lb, ub = ax[1].get_xlim( )\n",
    "        ax[1].set_xticks( np.linspace(lb, ub, 6 ) )\n",
    "        ax[1].set_ylim([0, 1])\n",
    "        ax[1].set_yticks( np.linspace(0, 1, 6 ) )\n",
    "        ax[1].set_ylabel('MeanIoU')\n",
    "        ax[1].plot(epochs, acc)\n",
    "        \n",
    "        if plot_val:\n",
    "            ax[1].plot(epochs, val_acc)\n",
    "        \n",
    "    ax[0].legend([l+' loss' for l in legend])\n",
    "    ax[1].legend([l+' MeanIoU' for l in legend])"
   ]
  },
  {
   "cell_type": "code",
   "execution_count": 30,
   "metadata": {},
   "outputs": [
    {
     "data": {
      "image/png": "[encoded data removed]",
      "text/plain": [
       "<Figure size 1008x432 with 2 Axes>"
      ]
     },
     "metadata": {
      "needs_background": "light"
     },
     "output_type": "display_data"
    }
   ],
   "source": [
    "plot_history('Scores Modelo', history, ['train', 'val'])"
   ]
  },
  {
   "cell_type": "markdown",
   "metadata": {
    "colab_type": "text",
    "id": "qkCw_gL03Yeb"
   },
   "source": [
    "Transfer Learning"
   ]
  },
  {
   "cell_type": "code",
   "execution_count": 21,
   "metadata": {
    "colab": {
     "base_uri": "https://localhost:8080/",
     "height": 35
    },
    "colab_type": "code",
    "executionInfo": {
     "elapsed": 2750,
     "status": "ok",
     "timestamp": 1591667771413,
     "user": {
      "displayName": "Sebastian Anapolsky",
      "photoUrl": "https://lh3.googleusercontent.com/a-/AOh14Gh-bssDdRabjNIg6pvY-ZBRPq1x_CUs5xzbJCiGxn4=s64",
      "userId": "10075885117730618636"
     },
     "user_tz": 180
    },
    "id": "aPuXKpAn3Z1Y",
    "outputId": "2bf6f651-2139-4290-c3bb-0da3a9a81da8"
   },
   "outputs": [],
   "source": [
    "from tensorflow.keras.applications import VGG16\n",
    "\n",
    "conv_base = VGG16(weights='imagenet',\n",
    "                  include_top=False,\n",
    "                  input_shape=(350, 350, 3))"
   ]
  },
  {
   "cell_type": "code",
   "execution_count": 23,
   "metadata": {
    "colab": {
     "base_uri": "https://localhost:8080/",
     "height": 308
    },
    "colab_type": "code",
    "executionInfo": {
     "elapsed": 1959,
     "status": "ok",
     "timestamp": 1591667771415,
     "user": {
      "displayName": "Sebastian Anapolsky",
      "photoUrl": "https://lh3.googleusercontent.com/a-/AOh14Gh-bssDdRabjNIg6pvY-ZBRPq1x_CUs5xzbJCiGxn4=s64",
      "userId": "10075885117730618636"
     },
     "user_tz": 180
    },
    "id": "VKYQds203mNS",
    "outputId": "9fcd225e-e53e-4333-8a52-09f389612a52"
   },
   "outputs": [
    {
     "name": "stdout",
     "output_type": "stream",
     "text": [
      "Model: \"vgg16\"\n",
      "_________________________________________________________________\n",
      "Layer (type)                 Output Shape              Param #   \n",
      "=================================================================\n",
      "input_1 (InputLayer)         [(None, 350, 350, 3)]     0         \n",
      "_________________________________________________________________\n",
      "block1_conv1 (Conv2D)        (None, 350, 350, 64)      1792      \n",
      "_________________________________________________________________\n",
      "block1_conv2 (Conv2D)        (None, 350, 350, 64)      36928     \n",
      "_________________________________________________________________\n",
      "block1_pool (MaxPooling2D)   (None, 175, 175, 64)      0         \n",
      "_________________________________________________________________\n",
      "block2_conv1 (Conv2D)        (None, 175, 175, 128)     73856     \n",
      "_________________________________________________________________\n",
      "block2_conv2 (Conv2D)        (None, 175, 175, 128)     147584    \n",
      "_________________________________________________________________\n",
      "block2_pool (MaxPooling2D)   (None, 87, 87, 128)       0         \n",
      "_________________________________________________________________\n",
      "block3_conv1 (Conv2D)        (None, 87, 87, 256)       295168    \n",
      "_________________________________________________________________\n",
      "block3_conv2 (Conv2D)        (None, 87, 87, 256)       590080    \n",
      "_________________________________________________________________\n",
      "block3_conv3 (Conv2D)        (None, 87, 87, 256)       590080    \n",
      "_________________________________________________________________\n",
      "block3_pool (MaxPooling2D)   (None, 43, 43, 256)       0         \n",
      "_________________________________________________________________\n",
      "block4_conv1 (Conv2D)        (None, 43, 43, 512)       1180160   \n",
      "_________________________________________________________________\n",
      "block4_conv2 (Conv2D)        (None, 43, 43, 512)       2359808   \n",
      "_________________________________________________________________\n",
      "block4_conv3 (Conv2D)        (None, 43, 43, 512)       2359808   \n",
      "_________________________________________________________________\n",
      "block4_pool (MaxPooling2D)   (None, 21, 21, 512)       0         \n",
      "_________________________________________________________________\n",
      "block5_conv1 (Conv2D)        (None, 21, 21, 512)       2359808   \n",
      "_________________________________________________________________\n",
      "block5_conv2 (Conv2D)        (None, 21, 21, 512)       2359808   \n",
      "_________________________________________________________________\n",
      "block5_conv3 (Conv2D)        (None, 21, 21, 512)       2359808   \n",
      "_________________________________________________________________\n",
      "block5_pool (MaxPooling2D)   (None, 10, 10, 512)       0         \n",
      "=================================================================\n",
      "Total params: 14,714,688\n",
      "Trainable params: 14,714,688\n",
      "Non-trainable params: 0\n",
      "_________________________________________________________________\n"
     ]
    }
   ],
   "source": [
    "conv_base.summary()"
   ]
  },
  {
   "cell_type": "code",
   "execution_count": 25,
   "metadata": {
    "colab": {
     "base_uri": "https://localhost:8080/",
     "height": 35
    },
    "colab_type": "code",
    "executionInfo": {
     "elapsed": 1654,
     "status": "ok",
     "timestamp": 1591667771416,
     "user": {
      "displayName": "Sebastian Anapolsky",
      "photoUrl": "https://lh3.googleusercontent.com/a-/AOh14Gh-bssDdRabjNIg6pvY-ZBRPq1x_CUs5xzbJCiGxn4=s64",
      "userId": "10075885117730618636"
     },
     "user_tz": 180
    },
    "id": "XVQ_Fp06KjoQ",
    "outputId": "08c79fae-47f9-4a92-c3be-7798bf289de6"
   },
   "outputs": [
    {
     "data": {
      "text/plain": [
       "(350, 350, 3)"
      ]
     },
     "execution_count": 25,
     "metadata": {},
     "output_type": "execute_result"
    }
   ],
   "source": [
    "X_train[0].shape"
   ]
  },
  {
   "cell_type": "code",
   "execution_count": 26,
   "metadata": {
    "colab": {
     "base_uri": "https://localhost:8080/",
     "height": 54
    },
    "colab_type": "code",
    "id": "uqtByhViJ9jp",
    "outputId": "5428bd51-03e3-4d76-e4f8-5d501be2b1cb"
   },
   "outputs": [],
   "source": [
    "from tensorflow.keras import models\n",
    "from tensorflow.keras import layers\n",
    "from tensorflow.keras import optimizers\n",
    "from tensorflow.keras.layers import Dense, Dropout, Flatten, Conv2D, MaxPooling2D\n",
    "\n",
    "model = models.Sequential()\n",
    "model.add(conv_base)\n",
    "model.add(layers.Flatten())\n",
    "model.add(layers.Dense(256, activation='relu', input_shape = X_train[0].shape))\n",
    "model.add(layers.BatchNormalization())\n",
    "model.add(layers.Dropout(0.5))\n",
    "model.add(Flatten())\n",
    "model.add(layers.Dense(4, activation='sigmoid'))\n",
    "\n",
    "\n",
    "\n",
    "\n",
    "\n",
    "\n"
   ]
  },
  {
   "cell_type": "code",
   "execution_count": 27,
   "metadata": {},
   "outputs": [],
   "source": [
    "conv_base.trainable = False"
   ]
  },
  {
   "cell_type": "code",
   "execution_count": 28,
   "metadata": {},
   "outputs": [
    {
     "name": "stdout",
     "output_type": "stream",
     "text": [
      "Train on 1638 samples, validate on 290 samples\n",
      "Epoch 1/15\n",
      "1638/1638 [==============================] - 33s 20ms/sample - loss: 0.7420 - mean_io_u: 0.2846 - val_loss: 0.7047 - val_mean_io_u: 0.2810\n",
      "Epoch 2/15\n",
      "1638/1638 [==============================] - 25s 15ms/sample - loss: 0.5617 - mean_io_u: 0.2846 - val_loss: 0.6784 - val_mean_io_u: 0.2810\n",
      "Epoch 3/15\n",
      "1638/1638 [==============================] - 25s 15ms/sample - loss: 0.4716 - mean_io_u: 0.2846 - val_loss: 0.6128 - val_mean_io_u: 0.2810\n",
      "Epoch 4/15\n",
      "1638/1638 [==============================] - 26s 16ms/sample - loss: 0.4056 - mean_io_u: 0.2846 - val_loss: 0.6030 - val_mean_io_u: 0.2810\n",
      "Epoch 5/15\n",
      "1638/1638 [==============================] - 25s 15ms/sample - loss: 0.3504 - mean_io_u: 0.2846 - val_loss: 0.6012 - val_mean_io_u: 0.2810\n",
      "Epoch 6/15\n",
      "1638/1638 [==============================] - 25s 15ms/sample - loss: 0.3241 - mean_io_u: 0.2846 - val_loss: 0.5595 - val_mean_io_u: 0.2810\n",
      "Epoch 7/15\n",
      "1638/1638 [==============================] - 26s 16ms/sample - loss: 0.2898 - mean_io_u: 0.2846 - val_loss: 0.5112 - val_mean_io_u: 0.2810\n",
      "Epoch 8/15\n",
      "1638/1638 [==============================] - 25s 15ms/sample - loss: 0.2607 - mean_io_u: 0.2846 - val_loss: 0.5158 - val_mean_io_u: 0.2810\n",
      "Epoch 9/15\n",
      "1638/1638 [==============================] - 25s 15ms/sample - loss: 0.2305 - mean_io_u: 0.2846 - val_loss: 0.5398 - val_mean_io_u: 0.2810\n",
      "Epoch 10/15\n",
      "1638/1638 [==============================] - 25s 15ms/sample - loss: 0.2068 - mean_io_u: 0.2846 - val_loss: 0.5440 - val_mean_io_u: 0.2810\n",
      "Epoch 11/15\n",
      "1638/1638 [==============================] - 25s 15ms/sample - loss: 0.1890 - mean_io_u: 0.2846 - val_loss: 0.5080 - val_mean_io_u: 0.2810\n",
      "Epoch 12/15\n",
      "1638/1638 [==============================] - 25s 15ms/sample - loss: 0.1807 - mean_io_u: 0.2846 - val_loss: 0.5554 - val_mean_io_u: 0.2810\n",
      "Epoch 13/15\n",
      "1638/1638 [==============================] - 25s 15ms/sample - loss: 0.1571 - mean_io_u: 0.2846 - val_loss: 0.5365 - val_mean_io_u: 0.2810\n",
      "Epoch 14/15\n",
      "1638/1638 [==============================] - 25s 15ms/sample - loss: 0.1438 - mean_io_u: 0.2846 - val_loss: 0.5484 - val_mean_io_u: 0.2810\n",
      "Epoch 15/15\n",
      "1638/1638 [==============================] - 25s 15ms/sample - loss: 0.1335 - mean_io_u: 0.2848 - val_loss: 0.5891 - val_mean_io_u: 0.2810\n"
     ]
    }
   ],
   "source": [
    "model.compile(optimizer=optimizers.RMSprop(lr=2e-5),\n",
    "              loss='binary_crossentropy',\n",
    "              metrics=[miou])\n",
    "\n",
    "history2 = model.fit(X_train, y_train,\n",
    "                    epochs=15,\n",
    "                    batch_size=20,\n",
    "                    validation_data=(X_test, y_test))"
   ]
  },
  {
   "cell_type": "code",
   "execution_count": 31,
   "metadata": {
    "colab": {},
    "colab_type": "code",
    "id": "f1F3KtLVKSsJ"
   },
   "outputs": [],
   "source": [
    "model.save('modelo1.h5')"
   ]
  },
  {
   "cell_type": "code",
   "execution_count": 33,
   "metadata": {
    "colab": {},
    "colab_type": "code",
    "id": "xpvvDo3iriSx"
   },
   "outputs": [],
   "source": [
    "def plot_history(name, history, legend, plot_val=True):\n",
    "    fig, ax = plt.subplots(1,2,figsize=(14,6))\n",
    "    fig.suptitle(name)\n",
    "    \n",
    "    if not isinstance(history, list):\n",
    "        history = [history]\n",
    "        \n",
    "    for h in history:\n",
    "        acc = h.history['mean_io_u']\n",
    "        loss = h.history['loss']\n",
    "        if plot_val:\n",
    "            val_loss = h.history['val_loss']\n",
    "            val_acc = h.history['val_mean_io_u']\n",
    "        epochs = range(1, len(acc) + 1)\n",
    "\n",
    "        ax[0].set_title('Loss')\n",
    "        ax[0].set_xticks(ticks=epochs)\n",
    "        lb, ub = ax[0].get_xlim( )\n",
    "        ax[0].set_xticks( np.linspace(lb, ub, 6 ) )\n",
    "        ax[0].set_ylim([0, 1])\n",
    "        ax[0].set_yticks( np.linspace(0, 1, 6 ) )\n",
    "        ax[0].set_ylabel('Loss')\n",
    "        \n",
    "        ax[0].plot(epochs, loss)\n",
    "        if plot_val:\n",
    "            ax[0].plot(epochs, val_loss)\n",
    "            \n",
    "        ax[1].set_title('MeanIoU')\n",
    "        ax[1].set_xticks(ticks=list(epochs))\n",
    "        ax[1].set_xlabel('Epochs')\n",
    "        lb, ub = ax[1].get_xlim( )\n",
    "        ax[1].set_xticks( np.linspace(lb, ub, 6 ) )\n",
    "        ax[1].set_ylim([0, 1])\n",
    "        ax[1].set_yticks( np.linspace(0, 1, 6 ) )\n",
    "        ax[1].set_ylabel('mean_io_u')\n",
    "        ax[1].plot(epochs, acc)\n",
    "        \n",
    "        if plot_val:\n",
    "            ax[1].plot(epochs, val_acc)\n",
    "        \n",
    "    ax[0].legend([l+' loss' for l in legend])\n",
    "    ax[1].legend([l+' MeanIoU' for l in legend])"
   ]
  },
  {
   "cell_type": "code",
   "execution_count": 34,
   "metadata": {},
   "outputs": [
    {
     "data": {
      "image/png": "[encoded data removed]",
      "text/plain": [
       "<Figure size 1008x432 with 2 Axes>"
      ]
     },
     "metadata": {
      "needs_background": "light"
     },
     "output_type": "display_data"
    }
   ],
   "source": [
    "plot_history('Scores Modelo', history2, ['train', 'val'])"
   ]
  }
 ],
 "metadata": {
  "accelerator": "TPU",
  "colab": {
   "authorship_tag": "ABX9TyOaDViochUgWkmEq7Nc9644",
   "mount_file_id": "1r1MxFMfkLXuKjUhzpZs5XkI2mDNV0mPJ",
   "name": "Copia de Modelo CNN.ipynb",
   "provenance": [
    {
     "file_id": "1oIMKVPEiEpDxYaQSQ2k30kti9kaUfLeS",
     "timestamp": 1591664017025
    }
   ]
  },
  "kernelspec": {
   "display_name": "Python 3",
   "language": "python",
   "name": "python3"
  },
  "language_info": {
   "codemirror_mode": {
    "name": "ipython",
    "version": 3
   },
   "file_extension": ".py",
   "mimetype": "text/x-python",
   "name": "python",
   "nbconvert_exporter": "python",
   "pygments_lexer": "ipython3",
   "version": "3.7.7"
  }
 },
 "nbformat": 4,
 "nbformat_minor": 1
}
