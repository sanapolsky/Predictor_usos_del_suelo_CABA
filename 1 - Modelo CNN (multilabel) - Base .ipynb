{
 "cells": [
  {
   "cell_type": "code",
   "execution_count": 2,
   "metadata": {
    "colab": {},
    "colab_type": "code",
    "id": "mKHhCSL1tvyg"
   },
   "outputs": [],
   "source": [
    "import tensorflow as tf\n",
    "import pandas as pd\n",
    "import numpy as np\n",
    "import matplotlib.pyplot as plt\n",
    "from tensorflow.keras import Sequential\n",
    "from tensorflow.keras.layers import Flatten, Dense, Dropout, BatchNormalization, Conv2D, MaxPool2D\n",
    "from tensorflow.keras.optimizers import Adam\n",
    "from tensorflow.keras.preprocessing import image\n",
    "from sklearn.model_selection import train_test_split\n",
    "import tensorflow.keras.models\n",
    "from tqdm import tqdm\n",
    "import os"
   ]
  },
  {
   "cell_type": "code",
   "execution_count": 4,
   "metadata": {
    "colab": {},
    "colab_type": "code",
    "id": "_N9OzTJTtj4F"
   },
   "outputs": [],
   "source": [
    "base_dir = os.getcwd()\n",
    "\n",
    "fotos_dir = os.path.join(base_dir, 'Fotos')"
   ]
  },
  {
   "cell_type": "code",
   "execution_count": 6,
   "metadata": {
    "colab": {
     "base_uri": "https://localhost:8080/",
     "height": 35
    },
    "colab_type": "code",
    "executionInfo": {
     "elapsed": 2114,
     "status": "ok",
     "timestamp": 1591667737261,
     "user": {
      "displayName": "Sebastian Anapolsky",
      "photoUrl": "https://lh3.googleusercontent.com/a-/AOh14Gh-bssDdRabjNIg6pvY-ZBRPq1x_CUs5xzbJCiGxn4=s64",
      "userId": "10075885117730618636"
     },
     "user_tz": 180
    },
    "id": "_sXLlHocp4pH",
    "outputId": "4491a9f4-8d90-48c8-9481-0e84f758de84"
   },
   "outputs": [
    {
     "name": "stdout",
     "output_type": "stream",
     "text": [
      "Cantidad de fotos 1928\n"
     ]
    }
   ],
   "source": [
    "rus = pd.read_pickle('rus_agg_con_categorias_y_fotos_sa.p')\n",
    "\n",
    "\n",
    "# rus = rus.head(1000)\n",
    "\n",
    "print('Cantidad de fotos', len(rus))\n",
    "\n",
    "\n",
    "\n",
    "# "
   ]
  },
  {
   "cell_type": "code",
   "execution_count": 7,
   "metadata": {
    "colab": {
     "base_uri": "https://localhost:8080/",
     "height": 259
    },
    "colab_type": "code",
    "executionInfo": {
     "elapsed": 1452,
     "status": "ok",
     "timestamp": 1591667737262,
     "user": {
      "displayName": "Sebastian Anapolsky",
      "photoUrl": "https://lh3.googleusercontent.com/a-/AOh14Gh-bssDdRabjNIg6pvY-ZBRPq1x_CUs5xzbJCiGxn4=s64",
      "userId": "10075885117730618636"
     },
     "user_tz": 180
    },
    "id": "uw8dswvuDcde",
    "outputId": "2b06d593-e999-4d82-f31a-63602710a78c"
   },
   "outputs": [
    {
     "data": {
      "text/html": [
       "<div>\n",
       "<style scoped>\n",
       "    .dataframe tbody tr th:only-of-type {\n",
       "        vertical-align: middle;\n",
       "    }\n",
       "\n",
       "    .dataframe tbody tr th {\n",
       "        vertical-align: top;\n",
       "    }\n",
       "\n",
       "    .dataframe thead th {\n",
       "        text-align: right;\n",
       "    }\n",
       "</style>\n",
       "<table border=\"1\" class=\"dataframe\">\n",
       "  <thead>\n",
       "    <tr style=\"text-align: right;\">\n",
       "      <th></th>\n",
       "      <th>index</th>\n",
       "      <th>SMP</th>\n",
       "      <th>Oficinas</th>\n",
       "      <th>Lote</th>\n",
       "      <th>Público</th>\n",
       "      <th>Industrial</th>\n",
       "      <th>Comercial-Servicios</th>\n",
       "      <th>Estacionamiento</th>\n",
       "      <th>Abandonado-Obra</th>\n",
       "      <th>Departamentos</th>\n",
       "      <th>Casa-PH</th>\n",
       "      <th>Categoria</th>\n",
       "      <th>web_ciudad</th>\n",
       "      <th>file</th>\n",
       "      <th>filename</th>\n",
       "      <th>hay_foto</th>\n",
       "    </tr>\n",
       "  </thead>\n",
       "  <tbody>\n",
       "    <tr>\n",
       "      <th>1303</th>\n",
       "      <td>21271</td>\n",
       "      <td>013-046-004</td>\n",
       "      <td>0.0</td>\n",
       "      <td>0.0</td>\n",
       "      <td>0.0</td>\n",
       "      <td>0.0</td>\n",
       "      <td>0.0</td>\n",
       "      <td>0.0</td>\n",
       "      <td>0.0</td>\n",
       "      <td>0.0</td>\n",
       "      <td>1.0</td>\n",
       "      <td>Casa-PH</td>\n",
       "      <td>http://fotos.usig.buenosaires.gob.ar//getFoto?...</td>\n",
       "      <td>013-046-004.jpg</td>\n",
       "      <td>C:\\Users\\maxir\\Artificial Intelligence\\Desafio...</td>\n",
       "      <td>1</td>\n",
       "    </tr>\n",
       "    <tr>\n",
       "      <th>1066</th>\n",
       "      <td>17589</td>\n",
       "      <td>011-061-035</td>\n",
       "      <td>0.0</td>\n",
       "      <td>0.0</td>\n",
       "      <td>0.0</td>\n",
       "      <td>0.0</td>\n",
       "      <td>0.0</td>\n",
       "      <td>0.0</td>\n",
       "      <td>0.0</td>\n",
       "      <td>1.0</td>\n",
       "      <td>0.0</td>\n",
       "      <td>Departamentos</td>\n",
       "      <td>http://fotos.usig.buenosaires.gob.ar//getFoto?...</td>\n",
       "      <td>011-061-035.jpg</td>\n",
       "      <td>C:\\Users\\maxir\\Artificial Intelligence\\Desafio...</td>\n",
       "      <td>1</td>\n",
       "    </tr>\n",
       "    <tr>\n",
       "      <th>791</th>\n",
       "      <td>13899</td>\n",
       "      <td>010-011-019</td>\n",
       "      <td>0.0</td>\n",
       "      <td>0.0</td>\n",
       "      <td>0.0</td>\n",
       "      <td>0.0</td>\n",
       "      <td>0.0</td>\n",
       "      <td>0.0</td>\n",
       "      <td>0.0</td>\n",
       "      <td>0.0</td>\n",
       "      <td>1.0</td>\n",
       "      <td>Casa-PH</td>\n",
       "      <td>http://fotos.usig.buenosaires.gob.ar//getFoto?...</td>\n",
       "      <td>010-011-019.jpg</td>\n",
       "      <td>C:\\Users\\maxir\\Artificial Intelligence\\Desafio...</td>\n",
       "      <td>1</td>\n",
       "    </tr>\n",
       "  </tbody>\n",
       "</table>\n",
       "</div>"
      ],
      "text/plain": [
       "      index          SMP  Oficinas  Lote  Público  Industrial  \\\n",
       "1303  21271  013-046-004       0.0   0.0      0.0         0.0   \n",
       "1066  17589  011-061-035       0.0   0.0      0.0         0.0   \n",
       "791   13899  010-011-019       0.0   0.0      0.0         0.0   \n",
       "\n",
       "      Comercial-Servicios  Estacionamiento  Abandonado-Obra  Departamentos  \\\n",
       "1303                  0.0              0.0              0.0            0.0   \n",
       "1066                  0.0              0.0              0.0            1.0   \n",
       "791                   0.0              0.0              0.0            0.0   \n",
       "\n",
       "      Casa-PH      Categoria  \\\n",
       "1303      1.0        Casa-PH   \n",
       "1066      0.0  Departamentos   \n",
       "791       1.0        Casa-PH   \n",
       "\n",
       "                                             web_ciudad             file  \\\n",
       "1303  http://fotos.usig.buenosaires.gob.ar//getFoto?...  013-046-004.jpg   \n",
       "1066  http://fotos.usig.buenosaires.gob.ar//getFoto?...  011-061-035.jpg   \n",
       "791   http://fotos.usig.buenosaires.gob.ar//getFoto?...  010-011-019.jpg   \n",
       "\n",
       "                                               filename  hay_foto  \n",
       "1303  C:\\Users\\maxir\\Artificial Intelligence\\Desafio...         1  \n",
       "1066  C:\\Users\\maxir\\Artificial Intelligence\\Desafio...         1  \n",
       "791   C:\\Users\\maxir\\Artificial Intelligence\\Desafio...         1  "
      ]
     },
     "execution_count": 7,
     "metadata": {},
     "output_type": "execute_result"
    }
   ],
   "source": [
    "rus.sample(3)"
   ]
  },
  {
   "cell_type": "code",
   "execution_count": 9,
   "metadata": {
    "colab": {},
    "colab_type": "code",
    "id": "okMvqEeZHk1P"
   },
   "outputs": [
    {
     "data": {
      "text/plain": [
       "1928"
      ]
     },
     "execution_count": 9,
     "metadata": {},
     "output_type": "execute_result"
    }
   ],
   "source": [
    "rus.shape[0]"
   ]
  },
  {
   "cell_type": "markdown",
   "metadata": {
    "colab_type": "text",
    "id": "pJpeWPkrtHyH"
   },
   "source": [
    "Levanto las imágenes y las convierto en un vector"
   ]
  },
  {
   "cell_type": "code",
   "execution_count": 10,
   "metadata": {
    "colab": {
     "base_uri": "https://localhost:8080/",
     "height": 54
    },
    "colab_type": "code",
    "executionInfo": {
     "elapsed": 23803,
     "status": "ok",
     "timestamp": 1591667763350,
     "user": {
      "displayName": "Sebastian Anapolsky",
      "photoUrl": "https://lh3.googleusercontent.com/a-/AOh14Gh-bssDdRabjNIg6pvY-ZBRPq1x_CUs5xzbJCiGxn4=s64",
      "userId": "10075885117730618636"
     },
     "user_tz": 180
    },
    "id": "DEK4PBAXquVq",
    "outputId": "e8455e82-b146-4100-ca97-c57d6ae796a4"
   },
   "outputs": [
    {
     "name": "stderr",
     "output_type": "stream",
     "text": [
      "100%|█████████████████████████████████████████████████████████████████████████████| 1928/1928 [00:06<00:00, 306.59it/s]\n"
     ]
    },
    {
     "data": {
      "text/plain": [
       "(1928, 350, 350, 3)"
      ]
     },
     "execution_count": 10,
     "metadata": {},
     "output_type": "execute_result"
    }
   ],
   "source": [
    "img_width = 350\n",
    "img_height = 350\n",
    "X = []\n",
    "for i in tqdm(range(0,rus.shape[0])):\n",
    "  path = os.path.join(os.getcwd(),'Fotos',rus['file'][i])\n",
    "\n",
    "  try:\n",
    "    img = image.load_img(path, target_size=(img_width, img_height, 3))\n",
    "    img = image.img_to_array(img)\n",
    "    img = img/255.0\n",
    "    X.append(img)\n",
    "    rus.loc[i, 'file_valida'] = 1\n",
    "  except:\n",
    "    rus.loc[i, 'file_valida'] = 0\n",
    "\n",
    "X = np.array(X)\n",
    "rus = rus[rus.file_valida == 1].reset_index(drop=True) \n",
    "X.shape\n"
   ]
  },
  {
   "cell_type": "code",
   "execution_count": 11,
   "metadata": {
    "colab": {
     "base_uri": "https://localhost:8080/",
     "height": 305
    },
    "colab_type": "code",
    "executionInfo": {
     "elapsed": 411010,
     "status": "ok",
     "timestamp": 1591664559164,
     "user": {
      "displayName": "Sebastian Anapolsky",
      "photoUrl": "https://lh3.googleusercontent.com/a-/AOh14Gh-bssDdRabjNIg6pvY-ZBRPq1x_CUs5xzbJCiGxn4=s64",
      "userId": "10075885117730618636"
     },
     "user_tz": 180
    },
    "id": "8pTyQBx_tcOe",
    "outputId": "a967b31d-28f8-416a-f546-b0c4b697f649"
   },
   "outputs": [
    {
     "name": "stdout",
     "output_type": "stream",
     "text": [
      "Departamentos, Comercial-Servicios\n"
     ]
    },
    {
     "data": {
      "text/plain": [
       "<matplotlib.image.AxesImage at 0x2230025af08>"
      ]
     },
     "execution_count": 11,
     "metadata": {},
     "output_type": "execute_result"
    },
    {
     "data": {
      "image/png": "[encoded data removed]",
      "text/plain": [
       "<Figure size 432x288 with 1 Axes>"
      ]
     },
     "metadata": {
      "needs_background": "light"
     },
     "output_type": "display_data"
    }
   ],
   "source": [
    "nimg = rus.sample(1).index.values[0]\n",
    "print(rus['Categoria'][nimg])\n",
    "plt.imshow(X[nimg])\n"
   ]
  },
  {
   "cell_type": "code",
   "execution_count": 12,
   "metadata": {
    "colab": {
     "base_uri": "https://localhost:8080/",
     "height": 108
    },
    "colab_type": "code",
    "executionInfo": {
     "elapsed": 764,
     "status": "ok",
     "timestamp": 1591663462756,
     "user": {
      "displayName": "Sebastian Anapolsky",
      "photoUrl": "https://lh3.googleusercontent.com/a-/AOh14Gh-bssDdRabjNIg6pvY-ZBRPq1x_CUs5xzbJCiGxn4=s64",
      "userId": "10075885117730618636"
     },
     "user_tz": 180
    },
    "id": "x7HFOZbNkF4z",
    "outputId": "b2876d26-faee-4bbc-c15f-cbeee8e4743f"
   },
   "outputs": [
    {
     "data": {
      "text/plain": [
       "Index(['index', 'SMP', 'Oficinas', 'Lote', 'Público', 'Industrial',\n",
       "       'Comercial-Servicios', 'Estacionamiento', 'Abandonado-Obra',\n",
       "       'Departamentos', 'Casa-PH', 'Categoria', 'web_ciudad', 'file',\n",
       "       'filename', 'hay_foto', 'file_valida'],\n",
       "      dtype='object')"
      ]
     },
     "execution_count": 12,
     "metadata": {},
     "output_type": "execute_result"
    }
   ],
   "source": [
    "rus.columns"
   ]
  },
  {
   "cell_type": "code",
   "execution_count": 13,
   "metadata": {
    "colab": {
     "base_uri": "https://localhost:8080/",
     "height": 35
    },
    "colab_type": "code",
    "executionInfo": {
     "elapsed": 3013,
     "status": "ok",
     "timestamp": 1591667763351,
     "user": {
      "displayName": "Sebastian Anapolsky",
      "photoUrl": "https://lh3.googleusercontent.com/a-/AOh14Gh-bssDdRabjNIg6pvY-ZBRPq1x_CUs5xzbJCiGxn4=s64",
      "userId": "10075885117730618636"
     },
     "user_tz": 180
    },
    "id": "sEPoP0XutcQ_",
    "outputId": "038a5373-f5ff-4c88-f910-1f0d4bb8ddb3"
   },
   "outputs": [
    {
     "data": {
      "text/plain": [
       "(1928, 4)"
      ]
     },
     "execution_count": 13,
     "metadata": {},
     "output_type": "execute_result"
    }
   ],
   "source": [
    "# y = rus.drop(['SMP', 'Categoria', 'web_ciudad', 'file', 'filename', 'hay_foto', 'file_valida'], axis=1)\n",
    "\n",
    "# y = rus['Casa-PH']\n",
    "y = rus[['Casa-PH', 'Departamentos', 'Comercial-Servicios', 'Estacionamiento']]\n",
    "y = y.to_numpy()\n",
    "y.shape\n",
    "\n"
   ]
  },
  {
   "cell_type": "code",
   "execution_count": 14,
   "metadata": {
    "colab": {},
    "colab_type": "code",
    "id": "Sd0kVWnNvJnj"
   },
   "outputs": [],
   "source": [
    "X_train, X_test, y_train, y_test = train_test_split(X, y, random_state = 0, test_size=0.15)\n"
   ]
  },
  {
   "cell_type": "markdown",
   "metadata": {
    "colab_type": "text",
    "id": "K49IVURQvbYQ"
   },
   "source": [
    "Crear Modelo CNN"
   ]
  },
  {
   "cell_type": "code",
   "execution_count": 15,
   "metadata": {
    "colab": {
     "base_uri": "https://localhost:8080/",
     "height": 1000
    },
    "colab_type": "code",
    "executionInfo": {
     "elapsed": 1568,
     "status": "ok",
     "timestamp": 1591664561677,
     "user": {
      "displayName": "Sebastian Anapolsky",
      "photoUrl": "https://lh3.googleusercontent.com/a-/AOh14Gh-bssDdRabjNIg6pvY-ZBRPq1x_CUs5xzbJCiGxn4=s64",
      "userId": "10075885117730618636"
     },
     "user_tz": 180
    },
    "id": "DHUIVoV9vdQt",
    "outputId": "a73280ef-8900-4a20-e1ed-ac910c1c12b1"
   },
   "outputs": [
    {
     "name": "stdout",
     "output_type": "stream",
     "text": [
      "Model: \"sequential\"\n",
      "_________________________________________________________________\n",
      "Layer (type)                 Output Shape              Param #   \n",
      "=================================================================\n",
      "conv2d (Conv2D)              (None, 348, 348, 16)      448       \n",
      "_________________________________________________________________\n",
      "batch_normalization (BatchNo (None, 348, 348, 16)      64        \n",
      "_________________________________________________________________\n",
      "max_pooling2d (MaxPooling2D) (None, 174, 174, 16)      0         \n",
      "_________________________________________________________________\n",
      "dropout (Dropout)            (None, 174, 174, 16)      0         \n",
      "_________________________________________________________________\n",
      "conv2d_1 (Conv2D)            (None, 172, 172, 32)      4640      \n",
      "_________________________________________________________________\n",
      "batch_normalization_1 (Batch (None, 172, 172, 32)      128       \n",
      "_________________________________________________________________\n",
      "max_pooling2d_1 (MaxPooling2 (None, 86, 86, 32)        0         \n",
      "_________________________________________________________________\n",
      "dropout_1 (Dropout)          (None, 86, 86, 32)        0         \n",
      "_________________________________________________________________\n",
      "conv2d_2 (Conv2D)            (None, 84, 84, 32)        9248      \n",
      "_________________________________________________________________\n",
      "batch_normalization_2 (Batch (None, 84, 84, 32)        128       \n",
      "_________________________________________________________________\n",
      "max_pooling2d_2 (MaxPooling2 (None, 42, 42, 32)        0         \n",
      "_________________________________________________________________\n",
      "dropout_2 (Dropout)          (None, 42, 42, 32)        0         \n",
      "_________________________________________________________________\n",
      "conv2d_3 (Conv2D)            (None, 40, 40, 128)       36992     \n",
      "_________________________________________________________________\n",
      "batch_normalization_3 (Batch (None, 40, 40, 128)       512       \n",
      "_________________________________________________________________\n",
      "max_pooling2d_3 (MaxPooling2 (None, 20, 20, 128)       0         \n",
      "_________________________________________________________________\n",
      "dropout_3 (Dropout)          (None, 20, 20, 128)       0         \n",
      "_________________________________________________________________\n",
      "flatten (Flatten)            (None, 51200)             0         \n",
      "_________________________________________________________________\n",
      "dense (Dense)                (None, 128)               6553728   \n",
      "_________________________________________________________________\n",
      "batch_normalization_4 (Batch (None, 128)               512       \n",
      "_________________________________________________________________\n",
      "dropout_4 (Dropout)          (None, 128)               0         \n",
      "_________________________________________________________________\n",
      "dense_1 (Dense)              (None, 128)               16512     \n",
      "_________________________________________________________________\n",
      "batch_normalization_5 (Batch (None, 128)               512       \n",
      "_________________________________________________________________\n",
      "dropout_5 (Dropout)          (None, 128)               0         \n",
      "_________________________________________________________________\n",
      "dense_2 (Dense)              (None, 4)                 516       \n",
      "=================================================================\n",
      "Total params: 6,623,940\n",
      "Trainable params: 6,623,012\n",
      "Non-trainable params: 928\n",
      "_________________________________________________________________\n"
     ]
    }
   ],
   "source": [
    "model = Sequential()\n",
    "\n",
    "model.add(Conv2D(16, (3,3), activation='relu', input_shape = X_train[0].shape))\n",
    "model.add(BatchNormalization())\n",
    "model.add(MaxPool2D(2,2))\n",
    "model.add(Dropout(0.3))\n",
    "\n",
    "model.add(Conv2D(32, (3,3), activation='relu'))\n",
    "model.add(BatchNormalization())\n",
    "model.add(MaxPool2D(2,2))\n",
    "model.add(Dropout(0.3))\n",
    "\n",
    "model.add(Conv2D(32, (3,3), activation='relu'))\n",
    "model.add(BatchNormalization())\n",
    "model.add(MaxPool2D(2,2))\n",
    "model.add(Dropout(0.4))\n",
    "\n",
    "model.add(Conv2D(128, (3,3), activation='relu'))\n",
    "model.add(BatchNormalization())\n",
    "model.add(MaxPool2D(2,2))\n",
    "model.add(Dropout(0.5))\n",
    "\n",
    "model.add(Flatten())\n",
    "\n",
    "model.add(Dense(128, activation='relu'))\n",
    "model.add(BatchNormalization())\n",
    "model.add(Dropout(0.5))\n",
    "\n",
    "model.add(Dense(128, activation='relu'))\n",
    "model.add(BatchNormalization())\n",
    "model.add(Dropout(0.5))\n",
    "\n",
    "model.add(Dense(4, activation='sigmoid'))  # primer parámetro es cantidad de categorías\n",
    "\n",
    "\n",
    "\n",
    "model.summary()"
   ]
  },
  {
   "cell_type": "code",
   "execution_count": 16,
   "metadata": {
    "colab": {},
    "colab_type": "code",
    "id": "8ZP2nSDzxJ-E"
   },
   "outputs": [],
   "source": [
    "model.compile(optimizer='adam', loss='binary_crossentropy', metrics=['accuracy'])\n"
   ]
  },
  {
   "cell_type": "code",
   "execution_count": 17,
   "metadata": {
    "colab": {
     "base_uri": "https://localhost:8080/",
     "height": 563
    },
    "colab_type": "code",
    "executionInfo": {
     "elapsed": 3067419,
     "status": "ok",
     "timestamp": 1591667627557,
     "user": {
      "displayName": "Sebastian Anapolsky",
      "photoUrl": "https://lh3.googleusercontent.com/a-/AOh14Gh-bssDdRabjNIg6pvY-ZBRPq1x_CUs5xzbJCiGxn4=s64",
      "userId": "10075885117730618636"
     },
     "user_tz": 180
    },
    "id": "KTlj_uIExKB6",
    "outputId": "4c86c5a5-32eb-4256-8979-861bf5f7bd7b"
   },
   "outputs": [
    {
     "name": "stdout",
     "output_type": "stream",
     "text": [
      "Train on 1638 samples, validate on 290 samples\n",
      "Epoch 1/15\n",
      "1638/1638 [==============================] - 9s 6ms/sample - loss: 0.8876 - accuracy: 0.5635 - val_loss: 4.1157 - val_accuracy: 0.4276\n",
      "Epoch 2/15\n",
      "1638/1638 [==============================] - 5s 3ms/sample - loss: 0.7856 - accuracy: 0.6120 - val_loss: 9.9606 - val_accuracy: 0.4276\n",
      "Epoch 3/15\n",
      "1638/1638 [==============================] - 5s 3ms/sample - loss: 0.7299 - accuracy: 0.6276 - val_loss: 5.6223 - val_accuracy: 0.4276\n",
      "Epoch 4/15\n",
      "1638/1638 [==============================] - 5s 3ms/sample - loss: 0.6877 - accuracy: 0.6464 - val_loss: 3.7433 - val_accuracy: 0.4897\n",
      "Epoch 5/15\n",
      "1638/1638 [==============================] - 5s 3ms/sample - loss: 0.6404 - accuracy: 0.6777 - val_loss: 4.4010 - val_accuracy: 0.5310\n",
      "Epoch 6/15\n",
      "1638/1638 [==============================] - 5s 3ms/sample - loss: 0.6092 - accuracy: 0.6918 - val_loss: 4.1456 - val_accuracy: 0.5491\n",
      "Epoch 7/15\n",
      "1638/1638 [==============================] - 5s 3ms/sample - loss: 0.5697 - accuracy: 0.7140 - val_loss: 2.3912 - val_accuracy: 0.5483\n",
      "Epoch 8/15\n",
      "1638/1638 [==============================] - 5s 3ms/sample - loss: 0.5536 - accuracy: 0.7305 - val_loss: 2.0114 - val_accuracy: 0.5517\n",
      "Epoch 9/15\n",
      "1638/1638 [==============================] - 5s 3ms/sample - loss: 0.5227 - accuracy: 0.7544 - val_loss: 1.3915 - val_accuracy: 0.5466\n",
      "Epoch 10/15\n",
      "1638/1638 [==============================] - 5s 3ms/sample - loss: 0.5141 - accuracy: 0.7534 - val_loss: 1.3930 - val_accuracy: 0.5560\n",
      "Epoch 11/15\n",
      "1638/1638 [==============================] - 5s 3ms/sample - loss: 0.4720 - accuracy: 0.7775 - val_loss: 1.5073 - val_accuracy: 0.5621\n",
      "Epoch 12/15\n",
      "1638/1638 [==============================] - 5s 3ms/sample - loss: 0.4698 - accuracy: 0.7807 - val_loss: 0.9981 - val_accuracy: 0.5966\n",
      "Epoch 13/15\n",
      "1638/1638 [==============================] - 5s 3ms/sample - loss: 0.4392 - accuracy: 0.8001 - val_loss: 1.2594 - val_accuracy: 0.5664\n",
      "Epoch 14/15\n",
      "1638/1638 [==============================] - 5s 3ms/sample - loss: 0.4286 - accuracy: 0.8022 - val_loss: 0.9061 - val_accuracy: 0.6422\n",
      "Epoch 15/15\n",
      "1638/1638 [==============================] - 5s 3ms/sample - loss: 0.4097 - accuracy: 0.8146 - val_loss: 0.9416 - val_accuracy: 0.6517\n"
     ]
    }
   ],
   "source": [
    "history = model.fit(X_train, y_train, epochs=15, validation_data=(X_test, y_test))"
   ]
  },
  {
   "cell_type": "code",
   "execution_count": 18,
   "metadata": {},
   "outputs": [],
   "source": [
    "def plot_history(name, history, legend, plot_val=True):\n",
    "    fig, ax = plt.subplots(1,2,figsize=(14,6))\n",
    "    fig.suptitle(name)\n",
    "    \n",
    "    if not isinstance(history, list):\n",
    "        history = [history]\n",
    "        \n",
    "    for h in history:\n",
    "        acc = h.history['accuracy']\n",
    "        loss = h.history['loss']\n",
    "        if plot_val:\n",
    "            val_loss = h.history['val_loss']\n",
    "            val_acc = h.history['val_accuracy']\n",
    "        epochs = range(1, len(acc) + 1)\n",
    "\n",
    "        ax[0].set_title('Loss')\n",
    "        ax[0].set_xticks(ticks=epochs)\n",
    "        lb, ub = ax[0].get_xlim( )\n",
    "        ax[0].set_xticks( np.linspace(lb, ub, 6 ) )\n",
    "        ax[0].set_ylim([0, 1])\n",
    "        ax[0].set_yticks( np.linspace(0, 1, 6 ) )\n",
    "        ax[0].set_ylabel('Loss')\n",
    "        \n",
    "        ax[0].plot(epochs, loss)\n",
    "        if plot_val:\n",
    "            ax[0].plot(epochs, val_loss)\n",
    "            \n",
    "        ax[1].set_title('Accuracy')\n",
    "        ax[1].set_xticks(ticks=list(epochs))\n",
    "        ax[1].set_xlabel('Epochs')\n",
    "        lb, ub = ax[1].get_xlim( )\n",
    "        ax[1].set_xticks( np.linspace(lb, ub, 6 ) )\n",
    "        ax[1].set_ylim([0, 1])\n",
    "        ax[1].set_yticks( np.linspace(0, 1, 6 ) )\n",
    "        ax[1].set_ylabel('Accuracy')\n",
    "        ax[1].plot(epochs, acc)\n",
    "        \n",
    "        if plot_val:\n",
    "            ax[1].plot(epochs, val_acc)\n",
    "        \n",
    "    ax[0].legend([l+' loss' for l in legend])\n",
    "    ax[1].legend([l+' accuracy' for l in legend])"
   ]
  },
  {
   "cell_type": "code",
   "execution_count": 19,
   "metadata": {},
   "outputs": [
    {
     "data": {
      "image/png": "[encoded data removed]",
      "text/plain": [
       "<Figure size 1008x432 with 2 Axes>"
      ]
     },
     "metadata": {
      "needs_background": "light"
     },
     "output_type": "display_data"
    }
   ],
   "source": [
    "plot_history('Scores Modelo', history, ['train', 'val'])"
   ]
  },
  {
   "cell_type": "code",
   "execution_count": 20,
   "metadata": {},
   "outputs": [
    {
     "name": "stdout",
     "output_type": "stream",
     "text": [
      "290/290 [==============================] - 1s 5ms/sample - loss: 0.9416 - accuracy: 0.6517\n"
     ]
    },
    {
     "data": {
      "text/plain": [
       "[0.9415512438478141, 0.65172416]"
      ]
     },
     "execution_count": 20,
     "metadata": {},
     "output_type": "execute_result"
    }
   ],
   "source": [
    "model.evaluate(X_test, y_test)"
   ]
  },
  {
   "cell_type": "markdown",
   "metadata": {
    "colab_type": "text",
    "id": "qkCw_gL03Yeb"
   },
   "source": [
    "Transfer Learning"
   ]
  },
  {
   "cell_type": "code",
   "execution_count": 24,
   "metadata": {
    "colab": {
     "base_uri": "https://localhost:8080/",
     "height": 35
    },
    "colab_type": "code",
    "executionInfo": {
     "elapsed": 2750,
     "status": "ok",
     "timestamp": 1591667771413,
     "user": {
      "displayName": "Sebastian Anapolsky",
      "photoUrl": "https://lh3.googleusercontent.com/a-/AOh14Gh-bssDdRabjNIg6pvY-ZBRPq1x_CUs5xzbJCiGxn4=s64",
      "userId": "10075885117730618636"
     },
     "user_tz": 180
    },
    "id": "aPuXKpAn3Z1Y",
    "outputId": "2bf6f651-2139-4290-c3bb-0da3a9a81da8"
   },
   "outputs": [],
   "source": [
    "from tensorflow.keras.applications import VGG16\n",
    "\n",
    "conv_base = VGG16(weights='imagenet',\n",
    "                  include_top=False,\n",
    "                  input_shape=(350, 350, 3))"
   ]
  },
  {
   "cell_type": "code",
   "execution_count": 26,
   "metadata": {
    "colab": {
     "base_uri": "https://localhost:8080/",
     "height": 308
    },
    "colab_type": "code",
    "executionInfo": {
     "elapsed": 1959,
     "status": "ok",
     "timestamp": 1591667771415,
     "user": {
      "displayName": "Sebastian Anapolsky",
      "photoUrl": "https://lh3.googleusercontent.com/a-/AOh14Gh-bssDdRabjNIg6pvY-ZBRPq1x_CUs5xzbJCiGxn4=s64",
      "userId": "10075885117730618636"
     },
     "user_tz": 180
    },
    "id": "VKYQds203mNS",
    "outputId": "9fcd225e-e53e-4333-8a52-09f389612a52"
   },
   "outputs": [
    {
     "name": "stdout",
     "output_type": "stream",
     "text": [
      "Model: \"vgg16\"\n",
      "_________________________________________________________________\n",
      "Layer (type)                 Output Shape              Param #   \n",
      "=================================================================\n",
      "input_1 (InputLayer)         [(None, 350, 350, 3)]     0         \n",
      "_________________________________________________________________\n",
      "block1_conv1 (Conv2D)        (None, 350, 350, 64)      1792      \n",
      "_________________________________________________________________\n",
      "block1_conv2 (Conv2D)        (None, 350, 350, 64)      36928     \n",
      "_________________________________________________________________\n",
      "block1_pool (MaxPooling2D)   (None, 175, 175, 64)      0         \n",
      "_________________________________________________________________\n",
      "block2_conv1 (Conv2D)        (None, 175, 175, 128)     73856     \n",
      "_________________________________________________________________\n",
      "block2_conv2 (Conv2D)        (None, 175, 175, 128)     147584    \n",
      "_________________________________________________________________\n",
      "block2_pool (MaxPooling2D)   (None, 87, 87, 128)       0         \n",
      "_________________________________________________________________\n",
      "block3_conv1 (Conv2D)        (None, 87, 87, 256)       295168    \n",
      "_________________________________________________________________\n",
      "block3_conv2 (Conv2D)        (None, 87, 87, 256)       590080    \n",
      "_________________________________________________________________\n",
      "block3_conv3 (Conv2D)        (None, 87, 87, 256)       590080    \n",
      "_________________________________________________________________\n",
      "block3_pool (MaxPooling2D)   (None, 43, 43, 256)       0         \n",
      "_________________________________________________________________\n",
      "block4_conv1 (Conv2D)        (None, 43, 43, 512)       1180160   \n",
      "_________________________________________________________________\n",
      "block4_conv2 (Conv2D)        (None, 43, 43, 512)       2359808   \n",
      "_________________________________________________________________\n",
      "block4_conv3 (Conv2D)        (None, 43, 43, 512)       2359808   \n",
      "_________________________________________________________________\n",
      "block4_pool (MaxPooling2D)   (None, 21, 21, 512)       0         \n",
      "_________________________________________________________________\n",
      "block5_conv1 (Conv2D)        (None, 21, 21, 512)       2359808   \n",
      "_________________________________________________________________\n",
      "block5_conv2 (Conv2D)        (None, 21, 21, 512)       2359808   \n",
      "_________________________________________________________________\n",
      "block5_conv3 (Conv2D)        (None, 21, 21, 512)       2359808   \n",
      "_________________________________________________________________\n",
      "block5_pool (MaxPooling2D)   (None, 10, 10, 512)       0         \n",
      "=================================================================\n",
      "Total params: 14,714,688\n",
      "Trainable params: 14,714,688\n",
      "Non-trainable params: 0\n",
      "_________________________________________________________________\n"
     ]
    }
   ],
   "source": [
    "conv_base.summary()"
   ]
  },
  {
   "cell_type": "code",
   "execution_count": 27,
   "metadata": {
    "colab": {},
    "colab_type": "code",
    "id": "puZRGGiU3rFG"
   },
   "outputs": [],
   "source": [
    "# conv_base.trainable = False"
   ]
  },
  {
   "cell_type": "code",
   "execution_count": 28,
   "metadata": {
    "colab": {
     "base_uri": "https://localhost:8080/",
     "height": 35
    },
    "colab_type": "code",
    "executionInfo": {
     "elapsed": 1654,
     "status": "ok",
     "timestamp": 1591667771416,
     "user": {
      "displayName": "Sebastian Anapolsky",
      "photoUrl": "https://lh3.googleusercontent.com/a-/AOh14Gh-bssDdRabjNIg6pvY-ZBRPq1x_CUs5xzbJCiGxn4=s64",
      "userId": "10075885117730618636"
     },
     "user_tz": 180
    },
    "id": "XVQ_Fp06KjoQ",
    "outputId": "08c79fae-47f9-4a92-c3be-7798bf289de6"
   },
   "outputs": [
    {
     "data": {
      "text/plain": [
       "(350, 350, 3)"
      ]
     },
     "execution_count": 28,
     "metadata": {},
     "output_type": "execute_result"
    }
   ],
   "source": [
    "X_train[0].shape"
   ]
  },
  {
   "cell_type": "code",
   "execution_count": 29,
   "metadata": {
    "colab": {
     "base_uri": "https://localhost:8080/",
     "height": 54
    },
    "colab_type": "code",
    "id": "uqtByhViJ9jp",
    "outputId": "5428bd51-03e3-4d76-e4f8-5d501be2b1cb"
   },
   "outputs": [],
   "source": [
    "from tensorflow.keras import models\n",
    "from tensorflow.keras import layers\n",
    "from tensorflow.keras import optimizers\n",
    "from tensorflow.keras.layers import Dense, Dropout, Flatten, Conv2D, MaxPooling2D\n",
    "\n",
    "model = models.Sequential()\n",
    "model.add(conv_base)\n",
    "model.add(layers.Flatten())\n",
    "model.add(layers.Dense(256, activation='relu', input_shape = X_train[0].shape))\n",
    "model.add(layers.Dropout(0.5))\n",
    "model.add(Flatten())\n",
    "model.add(layers.Dense(4, activation='sigmoid'))\n",
    "\n",
    "\n",
    "\n",
    "\n",
    "\n",
    "\n"
   ]
  },
  {
   "cell_type": "code",
   "execution_count": 30,
   "metadata": {},
   "outputs": [],
   "source": [
    "conv_base.trainable = False"
   ]
  },
  {
   "cell_type": "code",
   "execution_count": 31,
   "metadata": {},
   "outputs": [
    {
     "name": "stdout",
     "output_type": "stream",
     "text": [
      "Model: \"sequential_1\"\n",
      "_________________________________________________________________\n",
      "Layer (type)                 Output Shape              Param #   \n",
      "=================================================================\n",
      "vgg16 (Model)                (None, 10, 10, 512)       14714688  \n",
      "_________________________________________________________________\n",
      "flatten_1 (Flatten)          (None, 51200)             0         \n",
      "_________________________________________________________________\n",
      "dense_3 (Dense)              (None, 256)               13107456  \n",
      "_________________________________________________________________\n",
      "dropout_6 (Dropout)          (None, 256)               0         \n",
      "_________________________________________________________________\n",
      "flatten_2 (Flatten)          (None, 256)               0         \n",
      "_________________________________________________________________\n",
      "dense_4 (Dense)              (None, 4)                 1028      \n",
      "=================================================================\n",
      "Total params: 27,823,172\n",
      "Trainable params: 13,108,484\n",
      "Non-trainable params: 14,714,688\n",
      "_________________________________________________________________\n"
     ]
    }
   ],
   "source": [
    "model.summary()"
   ]
  },
  {
   "cell_type": "code",
   "execution_count": 32,
   "metadata": {},
   "outputs": [
    {
     "name": "stdout",
     "output_type": "stream",
     "text": [
      "Train on 1638 samples, validate on 290 samples\n",
      "Epoch 1/15\n",
      "1638/1638 [==============================] - 33s 20ms/sample - loss: 0.6205 - acc: 0.6670 - val_loss: 0.5662 - val_acc: 0.7181\n",
      "Epoch 2/15\n",
      "1638/1638 [==============================] - 26s 16ms/sample - loss: 0.5163 - acc: 0.7512 - val_loss: 0.5424 - val_acc: 0.7259\n",
      "Epoch 3/15\n",
      "1638/1638 [==============================] - 26s 16ms/sample - loss: 0.4701 - acc: 0.7920 - val_loss: 0.5014 - val_acc: 0.7526\n",
      "Epoch 4/15\n",
      "1638/1638 [==============================] - 25s 15ms/sample - loss: 0.4289 - acc: 0.8135 - val_loss: 0.5083 - val_acc: 0.7457\n",
      "Epoch 5/15\n",
      "1638/1638 [==============================] - 27s 16ms/sample - loss: 0.3823 - acc: 0.8433 - val_loss: 0.4622 - val_acc: 0.7853\n",
      "Epoch 6/15\n",
      "1638/1638 [==============================] - 26s 16ms/sample - loss: 0.3555 - acc: 0.8503 - val_loss: 0.4976 - val_acc: 0.7638\n",
      "Epoch 7/15\n",
      "1638/1638 [==============================] - 26s 16ms/sample - loss: 0.3305 - acc: 0.8701 - val_loss: 0.4889 - val_acc: 0.7603\n",
      "Epoch 8/15\n",
      "1638/1638 [==============================] - 25s 15ms/sample - loss: 0.3042 - acc: 0.8771 - val_loss: 0.4720 - val_acc: 0.7767\n",
      "Epoch 9/15\n",
      "1638/1638 [==============================] - 25s 15ms/sample - loss: 0.2774 - acc: 0.8996 - val_loss: 0.4731 - val_acc: 0.7707\n",
      "Epoch 10/15\n",
      "1638/1638 [==============================] - 25s 15ms/sample - loss: 0.2574 - acc: 0.9077 - val_loss: 0.4621 - val_acc: 0.7845\n",
      "Epoch 11/15\n",
      "1638/1638 [==============================] - 25s 15ms/sample - loss: 0.2430 - acc: 0.9148 - val_loss: 0.4815 - val_acc: 0.7741\n",
      "Epoch 12/15\n",
      "1638/1638 [==============================] - 25s 15ms/sample - loss: 0.2242 - acc: 0.9241 - val_loss: 0.4490 - val_acc: 0.7957\n",
      "Epoch 13/15\n",
      "1638/1638 [==============================] - 25s 15ms/sample - loss: 0.2072 - acc: 0.9362 - val_loss: 0.4599 - val_acc: 0.7862\n",
      "Epoch 14/15\n",
      "1638/1638 [==============================] - 25s 15ms/sample - loss: 0.1888 - acc: 0.9399 - val_loss: 0.4831 - val_acc: 0.7776\n",
      "Epoch 15/15\n",
      "1638/1638 [==============================] - 25s 15ms/sample - loss: 0.1797 - acc: 0.9484 - val_loss: 0.4680 - val_acc: 0.7853\n"
     ]
    }
   ],
   "source": [
    "model.compile(optimizer=optimizers.RMSprop(lr=2e-5),\n",
    "              loss='binary_crossentropy',\n",
    "              metrics=['acc'])\n",
    "\n",
    "history2 = model.fit(X_train, y_train,\n",
    "                    epochs=15,\n",
    "                    batch_size=20,\n",
    "                    validation_data=(X_test, y_test))"
   ]
  },
  {
   "cell_type": "code",
   "execution_count": 33,
   "metadata": {
    "colab": {},
    "colab_type": "code",
    "id": "f1F3KtLVKSsJ"
   },
   "outputs": [],
   "source": [
    "model.save('modelo1.h5')"
   ]
  },
  {
   "cell_type": "code",
   "execution_count": 34,
   "metadata": {
    "colab": {},
    "colab_type": "code",
    "id": "xpvvDo3iriSx"
   },
   "outputs": [],
   "source": [
    "def plot_history(name, history, legend, plot_val=True):\n",
    "    fig, ax = plt.subplots(1,2,figsize=(14,6))\n",
    "    fig.suptitle(name)\n",
    "    \n",
    "    if not isinstance(history, list):\n",
    "        history = [history]\n",
    "        \n",
    "    for h in history:\n",
    "        acc = h.history['acc']\n",
    "        loss = h.history['loss']\n",
    "        if plot_val:\n",
    "            val_loss = h.history['val_loss']\n",
    "            val_acc = h.history['val_acc']\n",
    "        epochs = range(1, len(acc) + 1)\n",
    "\n",
    "        ax[0].set_title('Loss')\n",
    "        ax[0].set_xticks(ticks=epochs)\n",
    "        lb, ub = ax[0].get_xlim( )\n",
    "        ax[0].set_xticks( np.linspace(lb, ub, 6 ) )\n",
    "        ax[0].set_ylim([0, 1])\n",
    "        ax[0].set_yticks( np.linspace(0, 1, 6 ) )\n",
    "        ax[0].set_ylabel('Loss')\n",
    "        \n",
    "        ax[0].plot(epochs, loss)\n",
    "        if plot_val:\n",
    "            ax[0].plot(epochs, val_loss)\n",
    "            \n",
    "        ax[1].set_title('Accuracy')\n",
    "        ax[1].set_xticks(ticks=list(epochs))\n",
    "        ax[1].set_xlabel('Epochs')\n",
    "        lb, ub = ax[1].get_xlim( )\n",
    "        ax[1].set_xticks( np.linspace(lb, ub, 6 ) )\n",
    "        ax[1].set_ylim([0, 1])\n",
    "        ax[1].set_yticks( np.linspace(0, 1, 6 ) )\n",
    "        ax[1].set_ylabel('Accuracy')\n",
    "        ax[1].plot(epochs, acc)\n",
    "        \n",
    "        if plot_val:\n",
    "            ax[1].plot(epochs, val_acc)\n",
    "        \n",
    "    ax[0].legend([l+' loss' for l in legend])\n",
    "    ax[1].legend([l+' accuracy' for l in legend])"
   ]
  },
  {
   "cell_type": "code",
   "execution_count": 35,
   "metadata": {},
   "outputs": [
    {
     "data": {
      "image/png": "[encoded data removed]",
      "text/plain": [
       "<Figure size 1008x432 with 2 Axes>"
      ]
     },
     "metadata": {
      "needs_background": "light"
     },
     "output_type": "display_data"
    }
   ],
   "source": [
    "plot_history('Scores Modelo', history2, ['train', 'val'])"
   ]
  },
  {
   "cell_type": "code",
   "execution_count": 36,
   "metadata": {},
   "outputs": [],
   "source": [
    "model1 = tensorflow.keras.models.load_model('modelo1.h5')"
   ]
  },
  {
   "cell_type": "code",
   "execution_count": 37,
   "metadata": {},
   "outputs": [
    {
     "name": "stdout",
     "output_type": "stream",
     "text": [
      "290/290 [==============================] - 8s 28ms/sample - loss: 0.4680 - acc: 0.7853\n"
     ]
    },
    {
     "data": {
      "text/plain": [
       "[0.46800502662000987, 0.78534484]"
      ]
     },
     "execution_count": 37,
     "metadata": {},
     "output_type": "execute_result"
    }
   ],
   "source": [
    "model1.evaluate(X_test, y_test)"
   ]
  }
 ],
 "metadata": {
  "accelerator": "TPU",
  "colab": {
   "authorship_tag": "ABX9TyOaDViochUgWkmEq7Nc9644",
   "mount_file_id": "1r1MxFMfkLXuKjUhzpZs5XkI2mDNV0mPJ",
   "name": "Copia de Modelo CNN.ipynb",
   "provenance": [
    {
     "file_id": "1oIMKVPEiEpDxYaQSQ2k30kti9kaUfLeS",
     "timestamp": 1591664017025
    }
   ]
  },
  "kernelspec": {
   "display_name": "Python 3",
   "language": "python",
   "name": "python3"
  },
  "language_info": {
   "codemirror_mode": {
    "name": "ipython",
    "version": 3
   },
   "file_extension": ".py",
   "mimetype": "text/x-python",
   "name": "python",
   "nbconvert_exporter": "python",
   "pygments_lexer": "ipython3",
   "version": "3.7.7"
  }
 },
 "nbformat": 4,
 "nbformat_minor": 1
}
